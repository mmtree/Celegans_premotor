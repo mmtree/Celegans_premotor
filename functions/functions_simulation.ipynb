{
 "cells": [
  {
   "cell_type": "code",
   "execution_count": null,
   "id": "2d0ed241",
   "metadata": {},
   "outputs": [],
   "source": [
    "#################################\n",
    "#### moving average function ####\n",
    "#################################\n",
    "function moving_average(data::AbstractVector{T}, window_size::Int) where {T<:Real}\n",
    "    n = length(data)\n",
    "    ma = similar(data, T, n)\n",
    "    \n",
    "    for i = 1:n\n",
    "        start_idx = max(1, i - window_size + 1)\n",
    "        end_idx = min(n, i)\n",
    "        window = data[start_idx:end_idx]\n",
    "        ma[i] = sum(window) / length(window)\n",
    "    end\n",
    "    \n",
    "    return ma\n",
    "end\n",
    "\n"
   ]
  },
  {
   "cell_type": "code",
   "execution_count": null,
   "id": "0f72fbed",
   "metadata": {},
   "outputs": [],
   "source": [
    "#################################\n",
    "#### heaviside pulse function ###\n",
    "#################################\n",
    "function heaviside_pulse(t::Real, t0::Real, A::Real)\n",
    "    if t < t0\n",
    "        return 0\n",
    "    elseif t == t0\n",
    "        return 0.5 * A\n",
    "    else\n",
    "        return A\n",
    "    end\n",
    "end"
   ]
  }
 ],
 "metadata": {
  "kernelspec": {
   "display_name": "Julia 1.9.0",
   "language": "julia",
   "name": "julia-1.9"
  },
  "language_info": {
   "file_extension": ".jl",
   "mimetype": "application/julia",
   "name": "julia",
   "version": "1.9.0"
  }
 },
 "nbformat": 4,
 "nbformat_minor": 5
}
