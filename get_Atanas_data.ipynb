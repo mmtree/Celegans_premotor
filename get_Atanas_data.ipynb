{
 "cells": [
  {
   "cell_type": "markdown",
   "id": "d67da7a0-5587-47f4-9851-476bb86a9647",
   "metadata": {},
   "source": [
    "# Get whole brain imaging data from the Worm Wide Web  https://wormwideweb.org/dataset.html"
   ]
  },
  {
   "cell_type": "code",
   "execution_count": 13,
   "id": "7f6473c3-bed9-4595-aa4a-fe2f956ff431",
   "metadata": {},
   "outputs": [],
   "source": [
    "# using Pkg\n",
    "# Pkg.add(\"HTTP\")\n",
    "# Pkg.add(\"JSON\")"
   ]
  },
  {
   "cell_type": "code",
   "execution_count": 14,
   "id": "9725082f-a202-45ac-9be4-5fb95c10ab76",
   "metadata": {},
   "outputs": [],
   "source": [
    "using HTTP\n",
    "using JSON\n"
   ]
  },
  {
   "cell_type": "code",
   "execution_count": 15,
   "id": "7cb7572c-0611-4122-8dc7-1d5329277227",
   "metadata": {},
   "outputs": [
    {
     "data": {
      "text/plain": [
       "\"https://wormwideweb.org/data/2022-06-14-07.json\""
      ]
     },
     "execution_count": 15,
     "metadata": {},
     "output_type": "execute_result"
    }
   ],
   "source": [
    "# URL of the JSON file\n",
    "\n",
    "url1 = \"https://wormwideweb.org/data/2023-03-07-01.json\"\n",
    "url2 = \"https://wormwideweb.org/data/2023-01-23-21.json\"\n",
    "url3 = \"https://wormwideweb.org/data/2023-01-23-15.json\"\n",
    "url4 = \"https://wormwideweb.org/data/2023-01-19-22.json\"\n",
    "url5 = \"https://wormwideweb.org/data/2023-01-19-15.json\"\n",
    "url6 = \"https://wormwideweb.org/data/2023-01-19-08.json\"\n",
    "url7 = \"https://wormwideweb.org/data/2023-01-19-01.json\"\n",
    "url8 = \"https://wormwideweb.org/data/2023-01-17-14.json\"\n",
    "url9 = \"https://wormwideweb.org/data/2023-01-17-07.json\"\n",
    "url10 = \"https://wormwideweb.org/data/2023-01-16-22.json\"\n",
    "url11 = \"https://wormwideweb.org/data/2023-01-16-15.json\"\n",
    "url12 = \"https://wormwideweb.org/data/2023-01-16-08.json\"\n",
    "url13 = \"https://wormwideweb.org/data/2023-01-10-14.json\"\n",
    "url14 = \"https://wormwideweb.org/data/2023-01-10-07.json\"\n",
    "url15 = \"https://wormwideweb.org/data/2023-01-09-28.json\"\n",
    "url16 = \"https://wormwideweb.org/data/2023-01-09-22.json\"\n",
    "url17 = \"https://wormwideweb.org/data/2023-01-09-15.json\"\n",
    "url18 = \"https://wormwideweb.org/data/2023-01-09-08.json\"\n",
    "url19 = \"https://wormwideweb.org/data/2023-01-06-15.json\"\n",
    "url20 = \"https://wormwideweb.org/data/2023-01-06-08.json\"\n",
    "url21 = \"https://wormwideweb.org/data/2023-01-06-01.json\"\n",
    "url22 = \"https://wormwideweb.org/data/2023-01-05-18.json\"\n",
    "url23 = \"https://wormwideweb.org/data/2023-01-05-01.json\"\n",
    "url24 = \"https://wormwideweb.org/data/2022-12-21-06.json\"\n",
    "url25 = \"https://wormwideweb.org/data/2022-08-02-01.json\"\n",
    "url26 = \"https://wormwideweb.org/data/2022-07-20-01.json\"\n",
    "url27 = \"https://wormwideweb.org/data/2022-06-28-07.json\"\n",
    "url28 = \"https://wormwideweb.org/data/2022-06-28-01.json\"\n",
    "url29 = \"https://wormwideweb.org/data/2022-06-14-13.json\"\n",
    "url30 = \"https://wormwideweb.org/data/2022-06-14-07.json\"\n"
   ]
  },
  {
   "cell_type": "code",
   "execution_count": 16,
   "id": "96a88719-9923-4707-8e27-8fc1e84979a6",
   "metadata": {},
   "outputs": [
    {
     "data": {
      "text/plain": [
       "30-element Vector{String}:\n",
       " \"https://wormwideweb.org/data/2023-03-07-01.json\"\n",
       " \"https://wormwideweb.org/data/2023-01-23-21.json\"\n",
       " \"https://wormwideweb.org/data/2023-01-23-15.json\"\n",
       " \"https://wormwideweb.org/data/2023-01-19-22.json\"\n",
       " \"https://wormwideweb.org/data/2023-01-19-15.json\"\n",
       " \"https://wormwideweb.org/data/2023-01-19-08.json\"\n",
       " \"https://wormwideweb.org/data/2023-01-19-01.json\"\n",
       " \"https://wormwideweb.org/data/2023-01-17-14.json\"\n",
       " \"https://wormwideweb.org/data/2023-01-17-07.json\"\n",
       " \"https://wormwideweb.org/data/2023-01-16-22.json\"\n",
       " \"https://wormwideweb.org/data/2023-01-16-15.json\"\n",
       " \"https://wormwideweb.org/data/2023-01-16-08.json\"\n",
       " \"https://wormwideweb.org/data/2023-01-10-14.json\"\n",
       " ⋮\n",
       " \"https://wormwideweb.org/data/2023-01-06-15.json\"\n",
       " \"https://wormwideweb.org/data/2023-01-06-08.json\"\n",
       " \"https://wormwideweb.org/data/2023-01-06-01.json\"\n",
       " \"https://wormwideweb.org/data/2023-01-05-18.json\"\n",
       " \"https://wormwideweb.org/data/2023-01-05-01.json\"\n",
       " \"https://wormwideweb.org/data/2022-12-21-06.json\"\n",
       " \"https://wormwideweb.org/data/2022-08-02-01.json\"\n",
       " \"https://wormwideweb.org/data/2022-07-20-01.json\"\n",
       " \"https://wormwideweb.org/data/2022-06-28-07.json\"\n",
       " \"https://wormwideweb.org/data/2022-06-28-01.json\"\n",
       " \"https://wormwideweb.org/data/2022-06-14-13.json\"\n",
       " \"https://wormwideweb.org/data/2022-06-14-07.json\""
      ]
     },
     "execution_count": 16,
     "metadata": {},
     "output_type": "execute_result"
    }
   ],
   "source": [
    "url_list = [url1, url2, url3, url4, url5, url6, url7, url8, url9, url10,\n",
    "            url11, url12, url13, url14, url15, url16, url17, url18, url19, url20,\n",
    "            url21, url22, url23, url24, url25, url26, url27, url28, url29, url30]"
   ]
  },
  {
   "cell_type": "code",
   "execution_count": 17,
   "id": "28a45cb2-31ff-4cdc-ba80-aab74129cefb",
   "metadata": {},
   "outputs": [
    {
     "name": "stdout",
     "output_type": "stream",
     "text": [
      "30 json files downloaded to data folder"
     ]
    }
   ],
   "source": [
    "for i in range(1,30)\n",
    "    url_tmp = url_list[i]  # pick one json file link\n",
    "    save_path_tmp = \"data/Atanas_data/\"* url_list[i][end-17:end]  # location to save json file\n",
    "\n",
    "    # Download the JSON file\n",
    "    response = HTTP.get(url_tmp)\n",
    "\n",
    "    # Save the response body as a file\n",
    "    open(save_path_tmp, \"w\") do file\n",
    "        write(file, response.body)\n",
    "    end\n",
    "end\n",
    "\n",
    "print(\"30 json files downloaded to data folder\")"
   ]
  }
 ],
 "metadata": {
  "kernelspec": {
   "display_name": "Julia 1.11.2",
   "language": "julia",
   "name": "julia-1.11"
  },
  "language_info": {
   "file_extension": ".jl",
   "mimetype": "application/julia",
   "name": "julia",
   "version": "1.11.2"
  }
 },
 "nbformat": 4,
 "nbformat_minor": 5
}
